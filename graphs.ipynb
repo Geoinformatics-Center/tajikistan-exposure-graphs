{
 "cells": [
  {
   "cell_type": "code",
   "execution_count": 126,
   "metadata": {},
   "outputs": [],
   "source": [
    "import matplotlib.pyplot as plt\n",
    "import pandas as pd\n",
    "%matplotlib inline\n",
    "import numpy as np"
   ]
  },
  {
   "cell_type": "code",
   "execution_count": 111,
   "metadata": {},
   "outputs": [
    {
     "data": {
      "text/html": [
       "<div>\n",
       "<style scoped>\n",
       "    .dataframe tbody tr th:only-of-type {\n",
       "        vertical-align: middle;\n",
       "    }\n",
       "\n",
       "    .dataframe tbody tr th {\n",
       "        vertical-align: top;\n",
       "    }\n",
       "\n",
       "    .dataframe thead th {\n",
       "        text-align: right;\n",
       "    }\n",
       "</style>\n",
       "<table border=\"1\" class=\"dataframe\">\n",
       "  <thead>\n",
       "    <tr style=\"text-align: right;\">\n",
       "      <th></th>\n",
       "      <th>ls1</th>\n",
       "      <th>ls2</th>\n",
       "      <th>ls3</th>\n",
       "      <th>ls4</th>\n",
       "      <th>ls5</th>\n",
       "      <th>ls6</th>\n",
       "    </tr>\n",
       "  </thead>\n",
       "  <tbody>\n",
       "    <tr>\n",
       "      <td>0</td>\n",
       "      <td>3106</td>\n",
       "      <td>1742</td>\n",
       "      <td>37318</td>\n",
       "      <td>11090</td>\n",
       "      <td>7338</td>\n",
       "      <td>13403</td>\n",
       "    </tr>\n",
       "    <tr>\n",
       "      <td>1</td>\n",
       "      <td>1239</td>\n",
       "      <td>1942</td>\n",
       "      <td>14486</td>\n",
       "      <td>8146</td>\n",
       "      <td>13084</td>\n",
       "      <td>578</td>\n",
       "    </tr>\n",
       "    <tr>\n",
       "      <td>2</td>\n",
       "      <td>7864</td>\n",
       "      <td>2703</td>\n",
       "      <td>129831</td>\n",
       "      <td>40285</td>\n",
       "      <td>12907</td>\n",
       "      <td>13855</td>\n",
       "    </tr>\n",
       "    <tr>\n",
       "      <td>3</td>\n",
       "      <td>2140</td>\n",
       "      <td>1032</td>\n",
       "      <td>31761</td>\n",
       "      <td>9729</td>\n",
       "      <td>4752</td>\n",
       "      <td>11092</td>\n",
       "    </tr>\n",
       "    <tr>\n",
       "      <td>4</td>\n",
       "      <td>3955</td>\n",
       "      <td>4476</td>\n",
       "      <td>48448</td>\n",
       "      <td>22477</td>\n",
       "      <td>23552</td>\n",
       "      <td>3755</td>\n",
       "    </tr>\n",
       "    <tr>\n",
       "      <td>5</td>\n",
       "      <td>5585</td>\n",
       "      <td>3939</td>\n",
       "      <td>50089</td>\n",
       "      <td>24610</td>\n",
       "      <td>19180</td>\n",
       "      <td>14346</td>\n",
       "    </tr>\n",
       "    <tr>\n",
       "      <td>6</td>\n",
       "      <td>3991</td>\n",
       "      <td>1018</td>\n",
       "      <td>51258</td>\n",
       "      <td>15889</td>\n",
       "      <td>4001</td>\n",
       "      <td>8012</td>\n",
       "    </tr>\n",
       "    <tr>\n",
       "      <td>7</td>\n",
       "      <td>2448</td>\n",
       "      <td>384</td>\n",
       "      <td>56639</td>\n",
       "      <td>10508</td>\n",
       "      <td>1527</td>\n",
       "      <td>8152</td>\n",
       "    </tr>\n",
       "    <tr>\n",
       "      <td>8</td>\n",
       "      <td>180</td>\n",
       "      <td>191</td>\n",
       "      <td>3384</td>\n",
       "      <td>1471</td>\n",
       "      <td>1619</td>\n",
       "      <td>477</td>\n",
       "    </tr>\n",
       "    <tr>\n",
       "      <td>9</td>\n",
       "      <td>1375</td>\n",
       "      <td>272</td>\n",
       "      <td>23911</td>\n",
       "      <td>7285</td>\n",
       "      <td>1329</td>\n",
       "      <td>10244</td>\n",
       "    </tr>\n",
       "    <tr>\n",
       "      <td>10</td>\n",
       "      <td>4383</td>\n",
       "      <td>4546</td>\n",
       "      <td>44472</td>\n",
       "      <td>23122</td>\n",
       "      <td>25729</td>\n",
       "      <td>4983</td>\n",
       "    </tr>\n",
       "    <tr>\n",
       "      <td>11</td>\n",
       "      <td>1758</td>\n",
       "      <td>744</td>\n",
       "      <td>10621</td>\n",
       "      <td>5406</td>\n",
       "      <td>2328</td>\n",
       "      <td>5510</td>\n",
       "    </tr>\n",
       "    <tr>\n",
       "      <td>12</td>\n",
       "      <td>8665</td>\n",
       "      <td>5513</td>\n",
       "      <td>76190</td>\n",
       "      <td>42433</td>\n",
       "      <td>23917</td>\n",
       "      <td>10259</td>\n",
       "    </tr>\n",
       "    <tr>\n",
       "      <td>13</td>\n",
       "      <td>1702</td>\n",
       "      <td>318</td>\n",
       "      <td>12492</td>\n",
       "      <td>5173</td>\n",
       "      <td>933</td>\n",
       "      <td>8863</td>\n",
       "    </tr>\n",
       "  </tbody>\n",
       "</table>\n",
       "</div>"
      ],
      "text/plain": [
       "     ls1   ls2     ls3    ls4    ls5    ls6\n",
       "0   3106  1742   37318  11090   7338  13403\n",
       "1   1239  1942   14486   8146  13084    578\n",
       "2   7864  2703  129831  40285  12907  13855\n",
       "3   2140  1032   31761   9729   4752  11092\n",
       "4   3955  4476   48448  22477  23552   3755\n",
       "5   5585  3939   50089  24610  19180  14346\n",
       "6   3991  1018   51258  15889   4001   8012\n",
       "7   2448   384   56639  10508   1527   8152\n",
       "8    180   191    3384   1471   1619    477\n",
       "9   1375   272   23911   7285   1329  10244\n",
       "10  4383  4546   44472  23122  25729   4983\n",
       "11  1758   744   10621   5406   2328   5510\n",
       "12  8665  5513   76190  42433  23917  10259\n",
       "13  1702   318   12492   5173    933   8863"
      ]
     },
     "execution_count": 111,
     "metadata": {},
     "output_type": "execute_result"
    }
   ],
   "source": [
    "pd.read_csv('ls.csv')"
   ]
  },
  {
   "cell_type": "code",
   "execution_count": 6,
   "metadata": {},
   "outputs": [],
   "source": [
    "import glob\n",
    "import os"
   ]
  },
  {
   "cell_type": "code",
   "execution_count": 112,
   "metadata": {},
   "outputs": [
    {
     "name": "stdout",
     "output_type": "stream",
     "text": [
      "['C:\\\\Users\\\\GIC\\\\Desktop\\\\tek\\\\Graphs\\\\notebook\\\\eq.csv', 'C:\\\\Users\\\\GIC\\\\Desktop\\\\tek\\\\Graphs\\\\notebook\\\\fld.csv', 'C:\\\\Users\\\\GIC\\\\Desktop\\\\tek\\\\Graphs\\\\notebook\\\\ls.csv']\n"
     ]
    }
   ],
   "source": [
    "path = r'C:\\Users\\GIC\\Desktop\\tek\\Graphs\\notebook'\n",
    "all_files = glob.glob(os.path.join(path, \"*.csv\"))\n",
    "print(all_files)\n"
   ]
  },
  {
   "cell_type": "code",
   "execution_count": 55,
   "metadata": {},
   "outputs": [],
   "source": [
    "df = pd.concat(map(pd.read_csv, glob.glob(os.path.join('', '*.csv'))), axis=1)"
   ]
  },
  {
   "cell_type": "code",
   "execution_count": 115,
   "metadata": {},
   "outputs": [
    {
     "data": {
      "text/html": [
       "<div>\n",
       "<style scoped>\n",
       "    .dataframe tbody tr th:only-of-type {\n",
       "        vertical-align: middle;\n",
       "    }\n",
       "\n",
       "    .dataframe tbody tr th {\n",
       "        vertical-align: top;\n",
       "    }\n",
       "\n",
       "    .dataframe thead th {\n",
       "        text-align: right;\n",
       "    }\n",
       "</style>\n",
       "<table border=\"1\" class=\"dataframe\">\n",
       "  <thead>\n",
       "    <tr style=\"text-align: right;\">\n",
       "      <th></th>\n",
       "      <th>eq1</th>\n",
       "      <th>eq2</th>\n",
       "      <th>eqa1</th>\n",
       "      <th>eqa2</th>\n",
       "      <th>FID</th>\n",
       "      <th>DISTRICT</th>\n",
       "      <th>SUM_BUAT_fld5_1</th>\n",
       "      <th>SUM_BUAT fld5_2</th>\n",
       "      <th>SUM_BUAT_fld5_3</th>\n",
       "      <th>SUM_BUIL_fld5_1</th>\n",
       "      <th>...</th>\n",
       "      <th>SUM_PEOP_8</th>\n",
       "      <th>SUM_AGRI_6</th>\n",
       "      <th>SUM_AGRI_7</th>\n",
       "      <th>SUM_AGRI_8</th>\n",
       "      <th>ls1</th>\n",
       "      <th>ls2</th>\n",
       "      <th>ls3</th>\n",
       "      <th>ls4</th>\n",
       "      <th>ls5</th>\n",
       "      <th>ls6</th>\n",
       "    </tr>\n",
       "  </thead>\n",
       "  <tbody>\n",
       "    <tr>\n",
       "      <td>0</td>\n",
       "      <td>5510</td>\n",
       "      <td>12925</td>\n",
       "      <td>5188</td>\n",
       "      <td>2471</td>\n",
       "      <td>0</td>\n",
       "      <td>Asht</td>\n",
       "      <td>1440</td>\n",
       "      <td>401</td>\n",
       "      <td>190</td>\n",
       "      <td>8435</td>\n",
       "      <td>...</td>\n",
       "      <td>7338</td>\n",
       "      <td>13403</td>\n",
       "      <td>6187</td>\n",
       "      <td>3490</td>\n",
       "      <td>3106</td>\n",
       "      <td>1742</td>\n",
       "      <td>37318</td>\n",
       "      <td>11090</td>\n",
       "      <td>7338</td>\n",
       "      <td>13403</td>\n",
       "    </tr>\n",
       "    <tr>\n",
       "      <td>1</td>\n",
       "      <td>9054</td>\n",
       "      <td>656</td>\n",
       "      <td>378</td>\n",
       "      <td>399</td>\n",
       "      <td>1</td>\n",
       "      <td>Ayni</td>\n",
       "      <td>379</td>\n",
       "      <td>191</td>\n",
       "      <td>207</td>\n",
       "      <td>2185</td>\n",
       "      <td>...</td>\n",
       "      <td>13084</td>\n",
       "      <td>578</td>\n",
       "      <td>369</td>\n",
       "      <td>605</td>\n",
       "      <td>1239</td>\n",
       "      <td>1942</td>\n",
       "      <td>14486</td>\n",
       "      <td>8146</td>\n",
       "      <td>13084</td>\n",
       "      <td>578</td>\n",
       "    </tr>\n",
       "    <tr>\n",
       "      <td>2</td>\n",
       "      <td>10968</td>\n",
       "      <td>12553</td>\n",
       "      <td>3715</td>\n",
       "      <td>1432</td>\n",
       "      <td>2</td>\n",
       "      <td>Bobojon_Ghafurov</td>\n",
       "      <td>2969</td>\n",
       "      <td>876</td>\n",
       "      <td>317</td>\n",
       "      <td>20098</td>\n",
       "      <td>...</td>\n",
       "      <td>12907</td>\n",
       "      <td>13855</td>\n",
       "      <td>4812</td>\n",
       "      <td>1916</td>\n",
       "      <td>7864</td>\n",
       "      <td>2703</td>\n",
       "      <td>129831</td>\n",
       "      <td>40285</td>\n",
       "      <td>12907</td>\n",
       "      <td>13855</td>\n",
       "    </tr>\n",
       "    <tr>\n",
       "      <td>3</td>\n",
       "      <td>3138</td>\n",
       "      <td>10699</td>\n",
       "      <td>2989</td>\n",
       "      <td>1362</td>\n",
       "      <td>3</td>\n",
       "      <td>Devashtich</td>\n",
       "      <td>940</td>\n",
       "      <td>232</td>\n",
       "      <td>101</td>\n",
       "      <td>5502</td>\n",
       "      <td>...</td>\n",
       "      <td>4752</td>\n",
       "      <td>11092</td>\n",
       "      <td>3766</td>\n",
       "      <td>1872</td>\n",
       "      <td>2140</td>\n",
       "      <td>1032</td>\n",
       "      <td>31761</td>\n",
       "      <td>9729</td>\n",
       "      <td>4752</td>\n",
       "      <td>11092</td>\n",
       "    </tr>\n",
       "    <tr>\n",
       "      <td>4</td>\n",
       "      <td>15490</td>\n",
       "      <td>3726</td>\n",
       "      <td>1798</td>\n",
       "      <td>2254</td>\n",
       "      <td>4</td>\n",
       "      <td>Isfara</td>\n",
       "      <td>997</td>\n",
       "      <td>394</td>\n",
       "      <td>289</td>\n",
       "      <td>6816</td>\n",
       "      <td>...</td>\n",
       "      <td>23552</td>\n",
       "      <td>3755</td>\n",
       "      <td>1979</td>\n",
       "      <td>2934</td>\n",
       "      <td>3955</td>\n",
       "      <td>4476</td>\n",
       "      <td>48448</td>\n",
       "      <td>22477</td>\n",
       "      <td>23552</td>\n",
       "      <td>3755</td>\n",
       "    </tr>\n",
       "  </tbody>\n",
       "</table>\n",
       "<p>5 rows × 51 columns</p>\n",
       "</div>"
      ],
      "text/plain": [
       "     eq1    eq2  eqa1  eqa2  FID          DISTRICT  SUM_BUAT_fld5_1  \\\n",
       "0   5510  12925  5188  2471    0              Asht             1440   \n",
       "1   9054    656   378   399    1              Ayni              379   \n",
       "2  10968  12553  3715  1432    2  Bobojon_Ghafurov             2969   \n",
       "3   3138  10699  2989  1362    3        Devashtich              940   \n",
       "4  15490   3726  1798  2254    4            Isfara              997   \n",
       "\n",
       "   SUM_BUAT fld5_2  SUM_BUAT_fld5_3  SUM_BUIL_fld5_1  ...  SUM_PEOP_8  \\\n",
       "0              401              190             8435  ...        7338   \n",
       "1              191              207             2185  ...       13084   \n",
       "2              876              317            20098  ...       12907   \n",
       "3              232              101             5502  ...        4752   \n",
       "4              394              289             6816  ...       23552   \n",
       "\n",
       "   SUM_AGRI_6  SUM_AGRI_7  SUM_AGRI_8   ls1   ls2     ls3    ls4    ls5    ls6  \n",
       "0       13403        6187        3490  3106  1742   37318  11090   7338  13403  \n",
       "1         578         369         605  1239  1942   14486   8146  13084    578  \n",
       "2       13855        4812        1916  7864  2703  129831  40285  12907  13855  \n",
       "3       11092        3766        1872  2140  1032   31761   9729   4752  11092  \n",
       "4        3755        1979        2934  3955  4476   48448  22477  23552   3755  \n",
       "\n",
       "[5 rows x 51 columns]"
      ]
     },
     "execution_count": 115,
     "metadata": {},
     "output_type": "execute_result"
    }
   ],
   "source": [
    "df.head()\n"
   ]
  },
  {
   "cell_type": "code",
   "execution_count": 57,
   "metadata": {},
   "outputs": [
    {
     "data": {
      "text/plain": [
       "Index(['eq1', 'eq2', 'eqa1', 'eqa2', 'FID', 'DISTRICT', 'SUM_BUAT_fld5_1',\n",
       "       'SUM_BUAT fld5_2', 'SUM_BUAT_fld5_3', 'SUM_BUIL_fld5_1',\n",
       "       'SUM_BUIL_fld5_2', 'SUM_BUIL_fld5_3', 'SUM_PEOP_fld5_1',\n",
       "       'SUM_PEOP_fld5_2', 'SUM_PEOP_fld5_3', 'SUM_AGRI_fld5_1',\n",
       "       'SUM_AGRI_fld5_2', 'SUM_AGRI_fld5_3', 'SUM_ROAD_fld5_1',\n",
       "       'SUM_ROAD_fld5_2', 'SUM_ROAD_fld5_3', 'SUM_BUAT_3', 'SUM_BUAT_4',\n",
       "       'SUM_BUAT_5', 'SUM_BUIL_3', 'SUM_BUIL_4', 'SUM_BUIL_5', 'SUM_PEOP_3',\n",
       "       'SUM_PEOP_4', 'SUM_PEOP_5', 'SUM_AGRI_3', 'SUM_AGRI_4', 'SUM_AGRI_5',\n",
       "       'SUM_BUAT_6', 'SUM_BUAT_7', 'SUM_BUAT_8', 'SUM_BUIL_6', 'SUM_BUIL_7',\n",
       "       'SUM_BUIL_8', 'SUM_PEOP_6', 'SUM_PEOP_7', 'SUM_PEOP_8', 'SUM_AGRI_6',\n",
       "       'SUM_AGRI_7', 'SUM_AGRI_8', 'ls1', 'ls2', 'ls3', 'ls4', 'ls5', 'ls6'],\n",
       "      dtype='object')"
      ]
     },
     "execution_count": 57,
     "metadata": {},
     "output_type": "execute_result"
    }
   ],
   "source": [
    "df.columns"
   ]
  },
  {
   "cell_type": "code",
   "execution_count": 117,
   "metadata": {
    "scrolled": true
   },
   "outputs": [],
   "source": [
    "dist=df['DISTRICT']\n",
    "a = df['SUM_BUAT_fld5_1']\n",
    "b= df['SUM_BUAT fld5_2']\n",
    "c=df['SUM_BUAT_fld5_3']\n",
    "e1=df['eq1']\n",
    "e2=df['eq2']\n",
    "e3=df['eqa1']\n",
    "e4=df['eqa2']\n",
    "ls1=df['ls1']\n",
    "ls2=df['ls2']\n",
    "ls3=df['ls4']"
   ]
  },
  {
   "cell_type": "code",
   "execution_count": 119,
   "metadata": {},
   "outputs": [
    {
     "data": {
      "text/plain": [
       "'Ayni'"
      ]
     },
     "execution_count": 119,
     "metadata": {},
     "output_type": "execute_result"
    }
   ],
   "source": [
    "dist[1]"
   ]
  },
  {
   "cell_type": "code",
   "execution_count": 121,
   "metadata": {},
   "outputs": [
    {
     "data": {
      "text/plain": [
       "1440"
      ]
     },
     "execution_count": 121,
     "metadata": {},
     "output_type": "execute_result"
    }
   ],
   "source": [
    "a[0]"
   ]
  },
  {
   "cell_type": "code",
   "execution_count": 26,
   "metadata": {},
   "outputs": [
    {
     "data": {
      "image/png": "[encoded data removed]",
      "text/plain": [
       "<Figure size 432x288 with 1 Axes>"
      ]
     },
     "metadata": {
      "needs_background": "light"
     },
     "output_type": "display_data"
    }
   ],
   "source": [
    "labels = ['G1', 'G2', 'G3', 'G4', 'G5']\n",
    "men_means = [20, 34, 30, 35, 27]\n",
    "women_means = [25, 32, 34, 20, 25]\n",
    "\n",
    "x = np.arange(len(labels))  # the label locations\n",
    "width = 0.35  # the width of the bars\n",
    "\n",
    "fig, ax = plt.subplots()\n",
    "rects1 = ax.bar(x - width/2, men_means, width, label='Men')\n",
    "rects2 = ax.bar(x + width/2, women_means, width, label='Women')\n",
    "\n",
    "# Add some text for labels, title and custom x-axis tick labels, etc.\n",
    "ax.set_ylabel('Scores')\n",
    "ax.set_title('Building exposure')\n",
    "ax.set_xticks(x)\n",
    "ax.set_xticklabels(labels)\n",
    "ax.legend()\n",
    "\n",
    "\n",
    "def autolabel(rects):\n",
    "    \"\"\"Attach a text label above each bar in *rects*, displaying its height.\"\"\"\n",
    "    for rect in rects:\n",
    "        height = rect.get_height()\n",
    "        ax.annotate('{}'.format(height),\n",
    "                    xy=(rect.get_x() + rect.get_width() / 2, height),\n",
    "                    xytext=(0, 3),  # 3 points vertical offset\n",
    "                    textcoords=\"offset points\",\n",
    "                    ha='center', va='bottom')\n",
    "\n",
    "\n",
    "autolabel(rects1)\n",
    "autolabel(rects2)\n",
    "\n",
    "fig.tight_layout()\n",
    "\n",
    "plt.show()"
   ]
  },
  {
   "cell_type": "code",
   "execution_count": 127,
   "metadata": {},
   "outputs": [
    {
     "data": {
      "image/png": "[encoded data removed]",
      "text/plain": [
       "<Figure size 432x288 with 1 Axes>"
      ]
     },
     "metadata": {
      "needs_background": "light"
     },
     "output_type": "display_data"
    }
   ],
   "source": [
    "# set width of bar\n",
    "barWidth = 0.25\n",
    " \n",
    "# set height of bar\n",
    "bars1 = [a[0], e1[0], ls1[0], 8, 22]\n",
    "bars2 = [b[0], e2[0], 0, 5, 10]\n",
    "bars3 = [c[0], 0, 0, 660, 17]\n",
    " \n",
    "# Set position of bar on X axis\n",
    "r1 = np.arange(len(bars1))\n",
    "r2 = [x + barWidth for x in r1]\n",
    "r3 = [x + barWidth for x in r2]\n",
    " \n",
    "# Make the plot\n",
    "plt.bar(r1, bars1, color='green', width=barWidth, edgecolor='white', label='low')\n",
    "plt.bar(r2, bars2, color='y', width=barWidth, edgecolor='white', label='medium')\n",
    "plt.bar(r3, bars3, color='r', width=barWidth, edgecolor='white', label='high')\n",
    " \n",
    "# Add xticks on the middle of the group bars\n",
    "plt.xlabel('group', fontweight='bold')\n",
    "plt.xticks([r + barWidth for r in range(len(bars1))], ['FL', 'EQ', 'WS', 'LS', 'MF'])\n",
    " \n",
    "# Create legend & Show graphic\n",
    "plt.legend()\n",
    "plt.savefig('bar1')"
   ]
  },
  {
   "cell_type": "code",
   "execution_count": null,
   "metadata": {},
   "outputs": [],
   "source": []
  }
 ],
 "metadata": {
  "kernelspec": {
   "display_name": "Python 3",
   "language": "python",
   "name": "python3"
  },
  "language_info": {
   "codemirror_mode": {
    "name": "ipython",
    "version": 3
   },
   "file_extension": ".py",
   "mimetype": "text/x-python",
   "name": "python",
   "nbconvert_exporter": "python",
   "pygments_lexer": "ipython3",
   "version": "3.7.4"
  }
 },
 "nbformat": 4,
 "nbformat_minor": 2
}
