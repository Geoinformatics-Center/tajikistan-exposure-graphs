{
 "cells": [
  {
   "cell_type": "code",
   "execution_count": 2,
   "metadata": {},
   "outputs": [],
   "source": [
    "import matplotlib.pyplot as plt\n",
    "import pandas as pd\n",
    "import glob\n",
    "import os"
   ]
  },
  {
   "cell_type": "code",
   "execution_count": 3,
   "metadata": {},
   "outputs": [],
   "source": [
    "%matplotlib inline"
   ]
  },
  {
   "cell_type": "code",
   "execution_count": 4,
   "metadata": {},
   "outputs": [
    {
     "name": "stdout",
     "output_type": "stream",
     "text": [
      "['C:\\\\Users\\\\GIC\\\\Desktop\\\\tek\\\\Graphs\\\\notebook\\\\data\\\\Exposure_tables\\\\all\\\\Asht_jamoat_exposure_DR.xls', 'C:\\\\Users\\\\GIC\\\\Desktop\\\\tek\\\\Graphs\\\\notebook\\\\data\\\\Exposure_tables\\\\all\\\\Asht_jamoat_exposure_EQ.xls', 'C:\\\\Users\\\\GIC\\\\Desktop\\\\tek\\\\Graphs\\\\notebook\\\\data\\\\Exposure_tables\\\\all\\\\Asht_jamoat_exposure_FL.xls', 'C:\\\\Users\\\\GIC\\\\Desktop\\\\tek\\\\Graphs\\\\notebook\\\\data\\\\Exposure_tables\\\\all\\\\Asht_jamoat_exposure_LS.xls', 'C:\\\\Users\\\\GIC\\\\Desktop\\\\tek\\\\Graphs\\\\notebook\\\\data\\\\Exposure_tables\\\\all\\\\Asht_jamoat_exposure_MF.xls', 'C:\\\\Users\\\\GIC\\\\Desktop\\\\tek\\\\Graphs\\\\notebook\\\\data\\\\Exposure_tables\\\\all\\\\Asht_jamoat_exposure_SA.xls', 'C:\\\\Users\\\\GIC\\\\Desktop\\\\tek\\\\Graphs\\\\notebook\\\\data\\\\Exposure_tables\\\\all\\\\Asht_jamoat_exposure_WS.xls', 'C:\\\\Users\\\\GIC\\\\Desktop\\\\tek\\\\Graphs\\\\notebook\\\\data\\\\Exposure_tables\\\\all\\\\Ayni_jamoat_exposure_DR.xls', 'C:\\\\Users\\\\GIC\\\\Desktop\\\\tek\\\\Graphs\\\\notebook\\\\data\\\\Exposure_tables\\\\all\\\\Ayni_jamoat_exposure_EQ.xls', 'C:\\\\Users\\\\GIC\\\\Desktop\\\\tek\\\\Graphs\\\\notebook\\\\data\\\\Exposure_tables\\\\all\\\\Ayni_jamoat_exposure_FL.xls', 'C:\\\\Users\\\\GIC\\\\Desktop\\\\tek\\\\Graphs\\\\notebook\\\\data\\\\Exposure_tables\\\\all\\\\Ayni_jamoat_exposure_LS.xls', 'C:\\\\Users\\\\GIC\\\\Desktop\\\\tek\\\\Graphs\\\\notebook\\\\data\\\\Exposure_tables\\\\all\\\\Ayni_jamoat_exposure_MF.xls', 'C:\\\\Users\\\\GIC\\\\Desktop\\\\tek\\\\Graphs\\\\notebook\\\\data\\\\Exposure_tables\\\\all\\\\Ayni_jamoat_exposure_SA.xls', 'C:\\\\Users\\\\GIC\\\\Desktop\\\\tek\\\\Graphs\\\\notebook\\\\data\\\\Exposure_tables\\\\all\\\\Ayni_jamoat_exposure_WS.xls', 'C:\\\\Users\\\\GIC\\\\Desktop\\\\tek\\\\Graphs\\\\notebook\\\\data\\\\Exposure_tables\\\\all\\\\Bobojon_Ghafurov_jamoat_exposure_DR.xls', 'C:\\\\Users\\\\GIC\\\\Desktop\\\\tek\\\\Graphs\\\\notebook\\\\data\\\\Exposure_tables\\\\all\\\\Bobojon_Ghafurov_jamoat_exposure_EQ.xls', 'C:\\\\Users\\\\GIC\\\\Desktop\\\\tek\\\\Graphs\\\\notebook\\\\data\\\\Exposure_tables\\\\all\\\\Bobojon_Ghafurov_jamoat_exposure_FL.xls', 'C:\\\\Users\\\\GIC\\\\Desktop\\\\tek\\\\Graphs\\\\notebook\\\\data\\\\Exposure_tables\\\\all\\\\Bobojon_Ghafurov_jamoat_exposure_LS.xls', 'C:\\\\Users\\\\GIC\\\\Desktop\\\\tek\\\\Graphs\\\\notebook\\\\data\\\\Exposure_tables\\\\all\\\\Bobojon_Ghafurov_jamoat_exposure_MF.xls', 'C:\\\\Users\\\\GIC\\\\Desktop\\\\tek\\\\Graphs\\\\notebook\\\\data\\\\Exposure_tables\\\\all\\\\Bobojon_Ghafurov_jamoat_exposure_SA.xls', 'C:\\\\Users\\\\GIC\\\\Desktop\\\\tek\\\\Graphs\\\\notebook\\\\data\\\\Exposure_tables\\\\all\\\\Bobojon_Ghafurov_jamoat_exposure_WS.xls', 'C:\\\\Users\\\\GIC\\\\Desktop\\\\tek\\\\Graphs\\\\notebook\\\\data\\\\Exposure_tables\\\\all\\\\Devashtich_jamoat_exposure_DR.xls', 'C:\\\\Users\\\\GIC\\\\Desktop\\\\tek\\\\Graphs\\\\notebook\\\\data\\\\Exposure_tables\\\\all\\\\Devashtich_jamoat_exposure_EQ.xls', 'C:\\\\Users\\\\GIC\\\\Desktop\\\\tek\\\\Graphs\\\\notebook\\\\data\\\\Exposure_tables\\\\all\\\\Devashtich_jamoat_exposure_FL.xls', 'C:\\\\Users\\\\GIC\\\\Desktop\\\\tek\\\\Graphs\\\\notebook\\\\data\\\\Exposure_tables\\\\all\\\\Devashtich_jamoat_exposure_LS.xls', 'C:\\\\Users\\\\GIC\\\\Desktop\\\\tek\\\\Graphs\\\\notebook\\\\data\\\\Exposure_tables\\\\all\\\\Devashtich_jamoat_exposure_MF.xls', 'C:\\\\Users\\\\GIC\\\\Desktop\\\\tek\\\\Graphs\\\\notebook\\\\data\\\\Exposure_tables\\\\all\\\\Devashtich_jamoat_exposure_SA.xls', 'C:\\\\Users\\\\GIC\\\\Desktop\\\\tek\\\\Graphs\\\\notebook\\\\data\\\\Exposure_tables\\\\all\\\\Devashtich_jamoat_exposure_WS.xls', 'C:\\\\Users\\\\GIC\\\\Desktop\\\\tek\\\\Graphs\\\\notebook\\\\data\\\\Exposure_tables\\\\all\\\\Isfara_jamoat_exposure_DR.xls', 'C:\\\\Users\\\\GIC\\\\Desktop\\\\tek\\\\Graphs\\\\notebook\\\\data\\\\Exposure_tables\\\\all\\\\Isfara_jamoat_exposure_EQ.xls', 'C:\\\\Users\\\\GIC\\\\Desktop\\\\tek\\\\Graphs\\\\notebook\\\\data\\\\Exposure_tables\\\\all\\\\Isfara_jamoat_exposure_FL.xls', 'C:\\\\Users\\\\GIC\\\\Desktop\\\\tek\\\\Graphs\\\\notebook\\\\data\\\\Exposure_tables\\\\all\\\\Isfara_jamoat_exposure_LS.xls', 'C:\\\\Users\\\\GIC\\\\Desktop\\\\tek\\\\Graphs\\\\notebook\\\\data\\\\Exposure_tables\\\\all\\\\Isfara_jamoat_exposure_MF.xls', 'C:\\\\Users\\\\GIC\\\\Desktop\\\\tek\\\\Graphs\\\\notebook\\\\data\\\\Exposure_tables\\\\all\\\\Isfara_jamoat_exposure_SA.xls', 'C:\\\\Users\\\\GIC\\\\Desktop\\\\tek\\\\Graphs\\\\notebook\\\\data\\\\Exposure_tables\\\\all\\\\Isfara_jamoat_exposure_WS.xls', 'C:\\\\Users\\\\GIC\\\\Desktop\\\\tek\\\\Graphs\\\\notebook\\\\data\\\\Exposure_tables\\\\all\\\\Istaravshan_jamoat_exposure_DR.xls', 'C:\\\\Users\\\\GIC\\\\Desktop\\\\tek\\\\Graphs\\\\notebook\\\\data\\\\Exposure_tables\\\\all\\\\Istaravshan_jamoat_exposure_EQ.xls', 'C:\\\\Users\\\\GIC\\\\Desktop\\\\tek\\\\Graphs\\\\notebook\\\\data\\\\Exposure_tables\\\\all\\\\Istaravshan_jamoat_exposure_FL.xls', 'C:\\\\Users\\\\GIC\\\\Desktop\\\\tek\\\\Graphs\\\\notebook\\\\data\\\\Exposure_tables\\\\all\\\\Istaravshan_jamoat_exposure_LS.xls', 'C:\\\\Users\\\\GIC\\\\Desktop\\\\tek\\\\Graphs\\\\notebook\\\\data\\\\Exposure_tables\\\\all\\\\Istaravshan_jamoat_exposure_MF.xls', 'C:\\\\Users\\\\GIC\\\\Desktop\\\\tek\\\\Graphs\\\\notebook\\\\data\\\\Exposure_tables\\\\all\\\\Istaravshan_jamoat_exposure_SA.xls', 'C:\\\\Users\\\\GIC\\\\Desktop\\\\tek\\\\Graphs\\\\notebook\\\\data\\\\Exposure_tables\\\\all\\\\Istaravshan_jamoat_exposure_WS.xls', 'C:\\\\Users\\\\GIC\\\\Desktop\\\\tek\\\\Graphs\\\\notebook\\\\data\\\\Exposure_tables\\\\all\\\\Jabbor_Rasulov_jamoat_exposure_DR.xls', 'C:\\\\Users\\\\GIC\\\\Desktop\\\\tek\\\\Graphs\\\\notebook\\\\data\\\\Exposure_tables\\\\all\\\\Jabbor_Rasulov_jamoat_exposure_EQ.xls', 'C:\\\\Users\\\\GIC\\\\Desktop\\\\tek\\\\Graphs\\\\notebook\\\\data\\\\Exposure_tables\\\\all\\\\Jabbor_Rasulov_jamoat_exposure_FL.xls', 'C:\\\\Users\\\\GIC\\\\Desktop\\\\tek\\\\Graphs\\\\notebook\\\\data\\\\Exposure_tables\\\\all\\\\Jabbor_Rasulov_jamoat_exposure_LS.xls', 'C:\\\\Users\\\\GIC\\\\Desktop\\\\tek\\\\Graphs\\\\notebook\\\\data\\\\Exposure_tables\\\\all\\\\Jabbor_Rasulov_jamoat_exposure_MF.xls', 'C:\\\\Users\\\\GIC\\\\Desktop\\\\tek\\\\Graphs\\\\notebook\\\\data\\\\Exposure_tables\\\\all\\\\Jabbor_Rasulov_jamoat_exposure_SA.xls', 'C:\\\\Users\\\\GIC\\\\Desktop\\\\tek\\\\Graphs\\\\notebook\\\\data\\\\Exposure_tables\\\\all\\\\Jabbor_Rasulov_jamoat_exposure_WS.xls', 'C:\\\\Users\\\\GIC\\\\Desktop\\\\tek\\\\Graphs\\\\notebook\\\\data\\\\Exposure_tables\\\\all\\\\Konibodom_jamoat_exposure_DR.xls', 'C:\\\\Users\\\\GIC\\\\Desktop\\\\tek\\\\Graphs\\\\notebook\\\\data\\\\Exposure_tables\\\\all\\\\Konibodom_jamoat_exposure_EQ.xls', 'C:\\\\Users\\\\GIC\\\\Desktop\\\\tek\\\\Graphs\\\\notebook\\\\data\\\\Exposure_tables\\\\all\\\\Konibodom_jamoat_exposure_FL.xls', 'C:\\\\Users\\\\GIC\\\\Desktop\\\\tek\\\\Graphs\\\\notebook\\\\data\\\\Exposure_tables\\\\all\\\\Konibodom_jamoat_exposure_LS.xls', 'C:\\\\Users\\\\GIC\\\\Desktop\\\\tek\\\\Graphs\\\\notebook\\\\data\\\\Exposure_tables\\\\all\\\\Konibodom_jamoat_exposure_MF.xls', 'C:\\\\Users\\\\GIC\\\\Desktop\\\\tek\\\\Graphs\\\\notebook\\\\data\\\\Exposure_tables\\\\all\\\\Konibodom_jamoat_exposure_SA.xls', 'C:\\\\Users\\\\GIC\\\\Desktop\\\\tek\\\\Graphs\\\\notebook\\\\data\\\\Exposure_tables\\\\all\\\\Konibodom_jamoat_exposure_WS.xls', 'C:\\\\Users\\\\GIC\\\\Desktop\\\\tek\\\\Graphs\\\\notebook\\\\data\\\\Exposure_tables\\\\all\\\\Kuhistoni_Mastchoh_jamoat_exposure_DR.xls', 'C:\\\\Users\\\\GIC\\\\Desktop\\\\tek\\\\Graphs\\\\notebook\\\\data\\\\Exposure_tables\\\\all\\\\Kuhistoni_Mastchoh_jamoat_exposure_EQ.xls', 'C:\\\\Users\\\\GIC\\\\Desktop\\\\tek\\\\Graphs\\\\notebook\\\\data\\\\Exposure_tables\\\\all\\\\Kuhistoni_Mastchoh_jamoat_exposure_FL.xls', 'C:\\\\Users\\\\GIC\\\\Desktop\\\\tek\\\\Graphs\\\\notebook\\\\data\\\\Exposure_tables\\\\all\\\\Kuhistoni_Mastchoh_jamoat_exposure_LS.xls', 'C:\\\\Users\\\\GIC\\\\Desktop\\\\tek\\\\Graphs\\\\notebook\\\\data\\\\Exposure_tables\\\\all\\\\Kuhistoni_Mastchoh_jamoat_exposure_MF.xls', 'C:\\\\Users\\\\GIC\\\\Desktop\\\\tek\\\\Graphs\\\\notebook\\\\data\\\\Exposure_tables\\\\all\\\\Kuhistoni_Mastchoh_jamoat_exposure_SA.xls', 'C:\\\\Users\\\\GIC\\\\Desktop\\\\tek\\\\Graphs\\\\notebook\\\\data\\\\Exposure_tables\\\\all\\\\Kuhistoni_Mastchoh_jamoat_exposure_WS.xls', 'C:\\\\Users\\\\GIC\\\\Desktop\\\\tek\\\\Graphs\\\\notebook\\\\data\\\\Exposure_tables\\\\all\\\\Mastchoh_jamoat_exposure_DR.xls', 'C:\\\\Users\\\\GIC\\\\Desktop\\\\tek\\\\Graphs\\\\notebook\\\\data\\\\Exposure_tables\\\\all\\\\Mastchoh_jamoat_exposure_EQ.xls', 'C:\\\\Users\\\\GIC\\\\Desktop\\\\tek\\\\Graphs\\\\notebook\\\\data\\\\Exposure_tables\\\\all\\\\Mastchoh_jamoat_exposure_FL.xls', 'C:\\\\Users\\\\GIC\\\\Desktop\\\\tek\\\\Graphs\\\\notebook\\\\data\\\\Exposure_tables\\\\all\\\\Mastchoh_jamoat_exposure_LS.xls', 'C:\\\\Users\\\\GIC\\\\Desktop\\\\tek\\\\Graphs\\\\notebook\\\\data\\\\Exposure_tables\\\\all\\\\Mastchoh_jamoat_exposure_MF.xls', 'C:\\\\Users\\\\GIC\\\\Desktop\\\\tek\\\\Graphs\\\\notebook\\\\data\\\\Exposure_tables\\\\all\\\\Mastchoh_jamoat_exposure_SA.xls', 'C:\\\\Users\\\\GIC\\\\Desktop\\\\tek\\\\Graphs\\\\notebook\\\\data\\\\Exposure_tables\\\\all\\\\Mastchoh_jamoat_exposure_WS.xls', 'C:\\\\Users\\\\GIC\\\\Desktop\\\\tek\\\\Graphs\\\\notebook\\\\data\\\\Exposure_tables\\\\all\\\\Panjakent_jamoat_exposure_DR.xls', 'C:\\\\Users\\\\GIC\\\\Desktop\\\\tek\\\\Graphs\\\\notebook\\\\data\\\\Exposure_tables\\\\all\\\\Panjakent_jamoat_exposure_EQ.xls', 'C:\\\\Users\\\\GIC\\\\Desktop\\\\tek\\\\Graphs\\\\notebook\\\\data\\\\Exposure_tables\\\\all\\\\Panjakent_jamoat_exposure_FL.xls', 'C:\\\\Users\\\\GIC\\\\Desktop\\\\tek\\\\Graphs\\\\notebook\\\\data\\\\Exposure_tables\\\\all\\\\Panjakent_jamoat_exposure_LS.xls', 'C:\\\\Users\\\\GIC\\\\Desktop\\\\tek\\\\Graphs\\\\notebook\\\\data\\\\Exposure_tables\\\\all\\\\Panjakent_jamoat_exposure_MF.xls', 'C:\\\\Users\\\\GIC\\\\Desktop\\\\tek\\\\Graphs\\\\notebook\\\\data\\\\Exposure_tables\\\\all\\\\Panjakent_jamoat_exposure_SA.xls', 'C:\\\\Users\\\\GIC\\\\Desktop\\\\tek\\\\Graphs\\\\notebook\\\\data\\\\Exposure_tables\\\\all\\\\Panjakent_jamoat_exposure_WS.xls', 'C:\\\\Users\\\\GIC\\\\Desktop\\\\tek\\\\Graphs\\\\notebook\\\\data\\\\Exposure_tables\\\\all\\\\Shahriston_jamoat_exposure_DR.xls', 'C:\\\\Users\\\\GIC\\\\Desktop\\\\tek\\\\Graphs\\\\notebook\\\\data\\\\Exposure_tables\\\\all\\\\Shahriston_jamoat_exposure_EQ.xls', 'C:\\\\Users\\\\GIC\\\\Desktop\\\\tek\\\\Graphs\\\\notebook\\\\data\\\\Exposure_tables\\\\all\\\\Shahriston_jamoat_exposure_FL.xls', 'C:\\\\Users\\\\GIC\\\\Desktop\\\\tek\\\\Graphs\\\\notebook\\\\data\\\\Exposure_tables\\\\all\\\\Shahriston_jamoat_exposure_LS.xls', 'C:\\\\Users\\\\GIC\\\\Desktop\\\\tek\\\\Graphs\\\\notebook\\\\data\\\\Exposure_tables\\\\all\\\\Shahriston_jamoat_exposure_MF.xls', 'C:\\\\Users\\\\GIC\\\\Desktop\\\\tek\\\\Graphs\\\\notebook\\\\data\\\\Exposure_tables\\\\all\\\\Shahriston_jamoat_exposure_SA.xls', 'C:\\\\Users\\\\GIC\\\\Desktop\\\\tek\\\\Graphs\\\\notebook\\\\data\\\\Exposure_tables\\\\all\\\\Shahriston_jamoat_exposure_WS.xls', 'C:\\\\Users\\\\GIC\\\\Desktop\\\\tek\\\\Graphs\\\\notebook\\\\data\\\\Exposure_tables\\\\all\\\\Spitamen_jamoat_exposure_DR.xls', 'C:\\\\Users\\\\GIC\\\\Desktop\\\\tek\\\\Graphs\\\\notebook\\\\data\\\\Exposure_tables\\\\all\\\\Spitamen_jamoat_exposure_EQ.xls', 'C:\\\\Users\\\\GIC\\\\Desktop\\\\tek\\\\Graphs\\\\notebook\\\\data\\\\Exposure_tables\\\\all\\\\Spitamen_jamoat_exposure_FL.xls', 'C:\\\\Users\\\\GIC\\\\Desktop\\\\tek\\\\Graphs\\\\notebook\\\\data\\\\Exposure_tables\\\\all\\\\Spitamen_jamoat_exposure_LS.xls', 'C:\\\\Users\\\\GIC\\\\Desktop\\\\tek\\\\Graphs\\\\notebook\\\\data\\\\Exposure_tables\\\\all\\\\Spitamen_jamoat_exposure_MF.xls', 'C:\\\\Users\\\\GIC\\\\Desktop\\\\tek\\\\Graphs\\\\notebook\\\\data\\\\Exposure_tables\\\\all\\\\Spitamen_jamoat_exposure_SA.xls', 'C:\\\\Users\\\\GIC\\\\Desktop\\\\tek\\\\Graphs\\\\notebook\\\\data\\\\Exposure_tables\\\\all\\\\Spitamen_jamoat_exposure_WS.xls', 'C:\\\\Users\\\\GIC\\\\Desktop\\\\tek\\\\Graphs\\\\notebook\\\\data\\\\Exposure_tables\\\\all\\\\Zafarobod_jamoat_exposure_DR.xls', 'C:\\\\Users\\\\GIC\\\\Desktop\\\\tek\\\\Graphs\\\\notebook\\\\data\\\\Exposure_tables\\\\all\\\\Zafarobod_jamoat_exposure_EQ.xls', 'C:\\\\Users\\\\GIC\\\\Desktop\\\\tek\\\\Graphs\\\\notebook\\\\data\\\\Exposure_tables\\\\all\\\\Zafarobod_jamoat_exposure_FL.xls', 'C:\\\\Users\\\\GIC\\\\Desktop\\\\tek\\\\Graphs\\\\notebook\\\\data\\\\Exposure_tables\\\\all\\\\Zafarobod_jamoat_exposure_LS.xls', 'C:\\\\Users\\\\GIC\\\\Desktop\\\\tek\\\\Graphs\\\\notebook\\\\data\\\\Exposure_tables\\\\all\\\\Zafarobod_jamoat_exposure_MF.xls', 'C:\\\\Users\\\\GIC\\\\Desktop\\\\tek\\\\Graphs\\\\notebook\\\\data\\\\Exposure_tables\\\\all\\\\Zafarobod_jamoat_exposure_SA.xls', 'C:\\\\Users\\\\GIC\\\\Desktop\\\\tek\\\\Graphs\\\\notebook\\\\data\\\\Exposure_tables\\\\all\\\\Zafarobod_jamoat_exposure_WS.xls']\n"
     ]
    }
   ],
   "source": [
    "path = r'C:\\Users\\GIC\\Desktop\\tek\\Graphs\\notebook\\data\\Exposure_tables\\all'\n",
    "all_files = glob.glob(os.path.join(path, \"*.xls\"))\n",
    "print(all_files)"
   ]
  },
  {
   "cell_type": "code",
   "execution_count": 6,
   "metadata": {},
   "outputs": [],
   "source": [
    "df = pd.concat(map(pd.read_excel, glob.glob(os.path.join(path, '*.xls'))), axis=1)"
   ]
  },
  {
   "cell_type": "code",
   "execution_count": 8,
   "metadata": {},
   "outputs": [],
   "source": [
    "df = df.to_csv('fullDataset.csv', encoding='utf-8', index=False)"
   ]
  },
  {
   "cell_type": "code",
   "execution_count": 9,
   "metadata": {},
   "outputs": [
    {
     "ename": "AttributeError",
     "evalue": "'NoneType' object has no attribute 'head'",
     "output_type": "error",
     "traceback": [
      "\u001b[1;31m---------------------------------------------------------------------------\u001b[0m",
      "\u001b[1;31mAttributeError\u001b[0m                            Traceback (most recent call last)",
      "\u001b[1;32m<ipython-input-9-c42a15b2c7cf>\u001b[0m in \u001b[0;36m<module>\u001b[1;34m\u001b[0m\n\u001b[1;32m----> 1\u001b[1;33m \u001b[0mdf\u001b[0m\u001b[1;33m.\u001b[0m\u001b[0mhead\u001b[0m\u001b[1;33m(\u001b[0m\u001b[1;33m)\u001b[0m\u001b[1;33m\u001b[0m\u001b[1;33m\u001b[0m\u001b[0m\n\u001b[0m",
      "\u001b[1;31mAttributeError\u001b[0m: 'NoneType' object has no attribute 'head'"
     ]
    }
   ],
   "source": [
    "df.head()"
   ]
  },
  {
   "cell_type": "code",
   "execution_count": null,
   "metadata": {},
   "outputs": [],
   "source": []
  }
 ],
 "metadata": {
  "kernelspec": {
   "display_name": "Python 3",
   "language": "python",
   "name": "python3"
  },
  "language_info": {
   "codemirror_mode": {
    "name": "ipython",
    "version": 3
   },
   "file_extension": ".py",
   "mimetype": "text/x-python",
   "name": "python",
   "nbconvert_exporter": "python",
   "pygments_lexer": "ipython3",
   "version": "3.7.4"
  }
 },
 "nbformat": 4,
 "nbformat_minor": 2
}
